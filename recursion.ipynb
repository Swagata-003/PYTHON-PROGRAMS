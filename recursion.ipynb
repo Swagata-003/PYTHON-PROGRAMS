{
 "cells": [
  {
   "cell_type": "code",
   "execution_count": 29,
   "id": "52fbc562",
   "metadata": {},
   "outputs": [
    {
     "name": "stdout",
     "output_type": "stream",
     "text": [
      "enter a number153\n",
      "armstrong number\n"
     ]
    }
   ],
   "source": [
    "#Determine whether armstrong number or not\n",
    "def armstrong(n,s):\n",
    "        if(n==0):\n",
    "            return s\n",
    "        else:\n",
    "                d=n%10\n",
    "                s=s+(d*d*d)\n",
    "                return(armstrong(n//10,s))\n",
    "n1=int(input(\"enter a number\"))\n",
    "s=0\n",
    "a=armstrong(n1,s)\n",
    "if(a==n1):\n",
    "    print(\"armstrong number\")\n",
    "else:\n",
    "    print(\"not armstrong number\")"
   ]
  },
  {
   "cell_type": "code",
   "execution_count": 39,
   "id": "3faca47f",
   "metadata": {},
   "outputs": [
    {
     "name": "stdout",
     "output_type": "stream",
     "text": [
      "sum of the array is 120\n"
     ]
    }
   ],
   "source": [
    "#find the sum of elements of the array using recursion\n",
    "def s_array(l,size):\n",
    "    if(size==0):\n",
    "        return 0\n",
    "    else:\n",
    "        return(l[size-1]+s_array(l,size-1))\n",
    "l=[92,23,15,-20,10]\n",
    "le=len(l)\n",
    "\n",
    "a=s_array(l,le)\n",
    "print(\"sum of the array is\",a)"
   ]
  },
  {
   "cell_type": "code",
   "execution_count": 4,
   "id": "f130ed0c",
   "metadata": {},
   "outputs": [
    {
     "name": "stdout",
     "output_type": "stream",
     "text": [
      "the maximum value of the array is 22\n"
     ]
    }
   ],
   "source": [
    "#find the maximum value of the array\n",
    "#max function is used\n",
    "def findmaximum(l,size):\n",
    "    if(size==1):\n",
    "        return l[0]\n",
    "    else:\n",
    "        m=max(l[size-1],findmaximum(l,size-1))\n",
    "        return m\n",
    "l=[13,2,-3,22,5]\n",
    "le=len(l)\n",
    "a=findmaximum(l,le)\n",
    "print(\"the maximum value of the array is\",a)"
   ]
  },
  {
   "cell_type": "code",
   "execution_count": null,
   "id": "b9a21190",
   "metadata": {},
   "outputs": [],
   "source": []
  }
 ],
 "metadata": {
  "kernelspec": {
   "display_name": "Python 3 (ipykernel)",
   "language": "python",
   "name": "python3"
  },
  "language_info": {
   "codemirror_mode": {
    "name": "ipython",
    "version": 3
   },
   "file_extension": ".py",
   "mimetype": "text/x-python",
   "name": "python",
   "nbconvert_exporter": "python",
   "pygments_lexer": "ipython3",
   "version": "3.11.4"
  }
 },
 "nbformat": 4,
 "nbformat_minor": 5
}
