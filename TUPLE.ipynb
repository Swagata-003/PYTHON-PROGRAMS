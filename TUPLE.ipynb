{
 "cells": [
  {
   "cell_type": "code",
   "execution_count": 4,
   "id": "ca1a0ba6",
   "metadata": {},
   "outputs": [
    {
     "name": "stdout",
     "output_type": "stream",
     "text": [
      "enter the tuple numbers1,2,3,4,5\n",
      "The tuple is (1, 2, 3, 4, 5)\n"
     ]
    }
   ],
   "source": [
    "#create a tuple with integers from 1 to 5\n",
    "t=eval(input(\"enter the tuple numbers\"))\n",
    "print(\"The tuple is\",t)"
   ]
  },
  {
   "cell_type": "code",
   "execution_count": 3,
   "id": "26092ee9",
   "metadata": {},
   "outputs": [
    {
     "name": "stdout",
     "output_type": "stream",
     "text": [
      "enter the tuple numbers1,2,3,4,5\n",
      "The third element of the tuple is 3\n"
     ]
    }
   ],
   "source": [
    "#Access the third element of a tuple\n",
    "t=eval(input(\"enter the tuple numbers\"))\n",
    "print(\"The third element of the tuple is\",t[2])"
   ]
  },
  {
   "cell_type": "code",
   "execution_count": 4,
   "id": "a739ea9e",
   "metadata": {},
   "outputs": [
    {
     "name": "stdout",
     "output_type": "stream",
     "text": [
      "enter the tuple numbers1,2,3,4,5\n",
      "the length is 5\n"
     ]
    }
   ],
   "source": [
    "#find length of a tuple without using len() function\n",
    "t=eval(input(\"enter the tuple numbers\"))\n",
    "c=0\n",
    "for i in t:\n",
    "    c=c+1\n",
    "print(\"the length is\",c)"
   ]
  },
  {
   "cell_type": "code",
   "execution_count": 6,
   "id": "6b2c0f57",
   "metadata": {},
   "outputs": [
    {
     "name": "stdout",
     "output_type": "stream",
     "text": [
      "enter the tuple numbers10,20,20,20,20\n",
      "enter an element20\n",
      "occurence of the element in the tuple 4\n"
     ]
    }
   ],
   "source": [
    "#count the occurences of an element in an tuple\n",
    "t=eval(input(\"enter the tuple numbers\"))\n",
    "x=int(input(\"enter an element\"))\n",
    "print(\"occurence of the element in the tuple is\",t.count(x))"
   ]
  },
  {
   "cell_type": "code",
   "execution_count": 8,
   "id": "caedd8e7",
   "metadata": {},
   "outputs": [
    {
     "name": "stdout",
     "output_type": "stream",
     "text": [
      "enter the tuple numbers1,2,2,3,4\n",
      "enter a number2\n",
      "index of the first occurence of the element is 1\n"
     ]
    }
   ],
   "source": [
    "#index of the first occurence of an element ina tuple\n",
    "t=eval(input(\"enter the tuple numbers\"))\n",
    "x=int(input(\"enter a number\"))\n",
    "print(\"index of the first occurence of the element is\",t.index(x))"
   ]
  },
  {
   "cell_type": "code",
   "execution_count": 9,
   "id": "f003445b",
   "metadata": {},
   "outputs": [
    {
     "name": "stdout",
     "output_type": "stream",
     "text": [
      "enter the tuple numbers1,2,3,4,5\n",
      "enter a numeber5\n",
      "element in tuple\n"
     ]
    }
   ],
   "source": [
    "#check if an element exists ina tuple\n",
    "t=eval(input(\"enter the tuple numbers\"))\n",
    "x=int(input(\"enter a numeber\"))\n",
    "if x in t:\n",
    "    print(\"element in tuple\")\n",
    "else:\n",
    "    print(\"element not in tuple\")"
   ]
  },
  {
   "cell_type": "code",
   "execution_count": 12,
   "id": "0cabc8bc",
   "metadata": {},
   "outputs": [
    {
     "name": "stdout",
     "output_type": "stream",
     "text": [
      "enter the tuple numbers1,2,3,4,5\n",
      "after converting tuple to list  [1, 2, 3, 4, 5]\n"
     ]
    }
   ],
   "source": [
    "#convert a tuple to a list\n",
    "t=eval(input(\"enter the tuple numbers\"))\n",
    "l=[]\n",
    "l=list(t)\n",
    "print(\"after converting tuple to list \",l)"
   ]
  },
  {
   "cell_type": "code",
   "execution_count": 13,
   "id": "ebeb10d9",
   "metadata": {},
   "outputs": [
    {
     "name": "stdout",
     "output_type": "stream",
     "text": [
      "after converting list to tuple (1, 2, 3, 4, 5)\n"
     ]
    }
   ],
   "source": [
    "#convert a list to a tuple\n",
    "l=[1,2,3,4,5]\n",
    "t=()\n",
    "t=tuple(l)\n",
    "print(\"after converting list to tuple\",t)"
   ]
  },
  {
   "cell_type": "code",
   "execution_count": 16,
   "id": "2b0821ed",
   "metadata": {},
   "outputs": [
    {
     "name": "stdout",
     "output_type": "stream",
     "text": [
      "enter the tuple numbers1,2,3,4,5\n",
      "enter the tuple numbers6,7,8,9,10\n",
      "concetenated tuple (1, 2, 3, 4, 5, 6, 7, 8, 9, 10)\n"
     ]
    }
   ],
   "source": [
    "t1=eval(input(\"enter the tuple numbers\"))\n",
    "t2=eval(input(\"enter the tuple numbers\"))\n",
    "t3=t1+t2\n",
    "print(\"concetenated tuple\",t3)"
   ]
  },
  {
   "cell_type": "code",
   "execution_count": 1,
   "id": "b3f3197c",
   "metadata": {},
   "outputs": [
    {
     "name": "stdout",
     "output_type": "stream",
     "text": [
      "enter the range10\n",
      "tuple of even numbers (2, 4, 6, 8, 10)\n"
     ]
    }
   ],
   "source": [
    "#create a tuple of even numbers from 1 to 10\n",
    "l=[]\n",
    "t=()\n",
    "n=int(input(\"enter the range\"))\n",
    "for i in range(1,n+1):\n",
    "    if(i%2==0):\n",
    "        l.append(i)\n",
    "t=tuple(l)\n",
    "print(\"tuple of even numbers\",t)\n",
    "        \n",
    "        "
   ]
  },
  {
   "cell_type": "code",
   "execution_count": 3,
   "id": "29cd7e01",
   "metadata": {},
   "outputs": [
    {
     "name": "stdout",
     "output_type": "stream",
     "text": [
      "enter the range10\n",
      "tuple of odd numbers (1, 3, 5, 7, 9)\n"
     ]
    }
   ],
   "source": [
    "#create a tuple of odd numbers from 1 to 10\n",
    "l=[]\n",
    "t=()\n",
    "n=int(input(\"enter the range\"))\n",
    "for i in range(1,n+1):\n",
    "    if(i%2!=0):\n",
    "        l.append(i)\n",
    "t=tuple(l)\n",
    "print(\"tuple of odd numbers\",t)\n",
    "        \n",
    "        "
   ]
  },
  {
   "cell_type": "code",
   "execution_count": 4,
   "id": "2d84b650",
   "metadata": {},
   "outputs": [
    {
     "name": "stdout",
     "output_type": "stream",
     "text": [
      "enter the tuple numbers1,2,3\n",
      "(1, 2, 3, 1, 2, 3, 1, 2, 3)\n"
     ]
    }
   ],
   "source": [
    "#repeat a tuple three times\n",
    "t=eval(input(\"enter the tuple numbers\"))\n",
    "t1=t*3\n",
    "print(t1)"
   ]
  },
  {
   "cell_type": "code",
   "execution_count": 6,
   "id": "c53019f4",
   "metadata": {},
   "outputs": [
    {
     "name": "stdout",
     "output_type": "stream",
     "text": [
      "enter the tuple numbers1,2,3\n",
      "enter the tuple numbers4,5,6\n",
      "second tuple is greater than first\n"
     ]
    }
   ],
   "source": [
    "#compare two tuples\n",
    "t=eval(input(\"enter the tuple numbers\"))\n",
    "t1=eval(input(\"enter the tuple numbers\"))\n",
    "if(t==t1):\n",
    "    print(\"equal\")\n",
    "elif(t>t1):\n",
    "    print(\"first tuple is greater than second\")\n",
    "else:\n",
    "    print(\"second tuple is greater than first\")"
   ]
  },
  {
   "cell_type": "code",
   "execution_count": 8,
   "id": "2a87db26",
   "metadata": {},
   "outputs": [
    {
     "name": "stdout",
     "output_type": "stream",
     "text": [
      "enter the tuple numbers1,2,3,4,5\n",
      "the maximum value in the tuple is 5\n"
     ]
    }
   ],
   "source": [
    "#find the maximum value in a tuple\n",
    "t=eval(input(\"enter the tuple numbers\"))\n",
    "print(\"the maximum value in the tuple is\",max(t))"
   ]
  },
  {
   "cell_type": "code",
   "execution_count": 10,
   "id": "783a412b",
   "metadata": {},
   "outputs": [
    {
     "name": "stdout",
     "output_type": "stream",
     "text": [
      "enter the tuple numbers1,2,3,4,5\n",
      "the minimum value in the tuple is 1\n"
     ]
    }
   ],
   "source": [
    "#find the minimum value in a tuple\n",
    "t=eval(input(\"enter the tuple numbers\"))\n",
    "print(\"the minimum value in the tuple is\",min(t))"
   ]
  },
  {
   "cell_type": "code",
   "execution_count": 12,
   "id": "a106600d",
   "metadata": {},
   "outputs": [
    {
     "name": "stdout",
     "output_type": "stream",
     "text": [
      "enter a stringcup\n",
      "('c', 'u', 'p')\n"
     ]
    }
   ],
   "source": [
    "#convert a string to a tuple of characters\n",
    "l=[]\n",
    "t=()\n",
    "str=input(\"enter a string\")\n",
    "for ch in str:\n",
    "    l.append(ch)\n",
    "t=tuple(l)\n",
    "print(t)"
   ]
  },
  {
   "cell_type": "code",
   "execution_count": 5,
   "id": "4c03e05f",
   "metadata": {},
   "outputs": [
    {
     "name": "stdout",
     "output_type": "stream",
     "text": [
      "enter the tuple numbers1,2,3\n",
      "enter the tuple numbers4,5,6\n",
      "merged tuple (1, 2, 3, 4, 5, 6)\n"
     ]
    }
   ],
   "source": [
    "#merge two tuples\n",
    "t1=eval(input(\"enter the tuple numbers\"))\n",
    "t2=eval(input(\"enter the tuple numbers\"))\n",
    "t3=t1+t2\n",
    "print(\"merged tuple\",t3)"
   ]
  },
  {
   "cell_type": "code",
   "execution_count": 11,
   "id": "25ac19f1",
   "metadata": {},
   "outputs": [
    {
     "name": "stdout",
     "output_type": "stream",
     "text": [
      "enter the tuple numbers2,1,54,6\n",
      "sorted tuple [1, 2, 6, 54]\n"
     ]
    }
   ],
   "source": [
    "#sort the elements of a tuple\n",
    "t=eval(input(\"enter the tuple numbers\"))\n",
    "t3=sorted(t)\n",
    "print(\"sorted tuple\",t3)"
   ]
  },
  {
   "cell_type": "code",
   "execution_count": 7,
   "id": "88bc1cd5",
   "metadata": {},
   "outputs": [
    {
     "name": "stdout",
     "output_type": "stream",
     "text": [
      "enter a number5\n",
      "tuple with first 5 prime numbers (2,)\n"
     ]
    }
   ],
   "source": [
    "# create a tuple of the first 5 prime numbers\n",
    "l=[]\n",
    "t=()\n",
    "n=int(input(\"enter a number\"))\n",
    "c=0\n",
    "for i in range(2,n+1):\n",
    "    for j in range(1,n+1):\n",
    "        \n",
    "        if(i%j==0):\n",
    "            \n",
    "            c=c+1\n",
    "    if(c==2):\n",
    "        \n",
    "        l.append(i)       \n",
    "    \n",
    "t=tuple(l)\n",
    "print(\"tuple with first 5 prime numbers\",t)"
   ]
  },
  {
   "cell_type": "code",
   "execution_count": 10,
   "id": "a276227b",
   "metadata": {},
   "outputs": [
    {
     "name": "stdout",
     "output_type": "stream",
     "text": [
      "enter a stringapple\n",
      "('a', 'p', 'p', 'l', 'e')\n",
      "the string is apple\n"
     ]
    }
   ],
   "source": [
    "#convert tuple of characters to string\n",
    "str=input(\"enter a string\")\n",
    "l=[]\n",
    "t=()\n",
    "r=''\n",
    "for x in str:\n",
    "    l.append(x)\n",
    "t=tuple(l)\n",
    "print(t)\n",
    "for s in t:\n",
    "    r=r+s\n",
    "print(\"the string is\",r)"
   ]
  },
  {
   "cell_type": "code",
   "execution_count": 14,
   "id": "4d0ad2ee",
   "metadata": {},
   "outputs": [
    {
     "name": "stdout",
     "output_type": "stream",
     "text": [
      "enter a stringapple\n",
      "('a', 'p', 'p', 'l', 'e')\n",
      "the string is apple\n"
     ]
    }
   ],
   "source": [
    "#convert tuple of characters to string\n",
    "str=input(\"enter a string\")\n",
    "l=[]\n",
    "t=()\n",
    "r=''\n",
    "for x in str:\n",
    "    l.append(x)\n",
    "t=tuple(l)\n",
    "print(t)\n",
    "for s in t:\n",
    "    r=r+s\n",
    "print(\"the string is\",r)"
   ]
  },
  {
   "cell_type": "code",
   "execution_count": 15,
   "id": "3c6b5612",
   "metadata": {},
   "outputs": [
    {
     "name": "stdout",
     "output_type": "stream",
     "text": [
      "enter a number6\n",
      "the tuple of squares (1, 4, 9, 16, 25)\n"
     ]
    }
   ],
   "source": [
    "#create a tuple of squares\n",
    "l=[]\n",
    "t=()\n",
    "n=int(input(\"enter a number\"))\n",
    "for i in range(1,n):\n",
    "    l.append(i*i)\n",
    "t=tuple(l)\n",
    "print(\"the tuple of squares\",t)\n",
    "    "
   ]
  },
  {
   "cell_type": "code",
   "execution_count": 16,
   "id": "7ddd0584",
   "metadata": {},
   "outputs": [
    {
     "name": "stdout",
     "output_type": "stream",
     "text": [
      "enter a stringmadam\n",
      "('m', 'a', 'd', 'a', 'm')\n",
      "tuple is palindrome\n"
     ]
    }
   ],
   "source": [
    "#check whether a tuple is palindrome or not\n",
    "str=input(\"enter a string\")\n",
    "l=[]\n",
    "t=()\n",
    "s=()\n",
    "r=''\n",
    "for x in str:\n",
    "    l.append(x)\n",
    "t=tuple(l)\n",
    "print(t)\n",
    "s=t[::-1]\n",
    "if(t==s):\n",
    "    print(\"tuple is palindrome\")\n",
    "else:\n",
    "    print(\"tuple is not palindrome\")"
   ]
  },
  {
   "cell_type": "code",
   "execution_count": 17,
   "id": "b7e0994b",
   "metadata": {},
   "outputs": [
    {
     "name": "stdout",
     "output_type": "stream",
     "text": [
      "enter the numbers1,2,3,4\n"
     ]
    },
    {
     "ename": "NameError",
     "evalue": "name 't' is not defined",
     "output_type": "error",
     "traceback": [
      "\u001b[1;31m---------------------------------------------------------------------------\u001b[0m",
      "\u001b[1;31mNameError\u001b[0m                                 Traceback (most recent call last)",
      "Cell \u001b[1;32mIn[17], line 4\u001b[0m\n\u001b[0;32m      2\u001b[0m t\u001b[38;5;241m=\u001b[39m\u001b[38;5;28meval\u001b[39m(\u001b[38;5;28minput\u001b[39m(\u001b[38;5;124m\"\u001b[39m\u001b[38;5;124menter the numbers\u001b[39m\u001b[38;5;124m\"\u001b[39m))\n\u001b[0;32m      3\u001b[0m \u001b[38;5;28;01mdel\u001b[39;00m t\n\u001b[1;32m----> 4\u001b[0m \u001b[38;5;28mprint\u001b[39m(t)\n",
      "\u001b[1;31mNameError\u001b[0m: name 't' is not defined"
     ]
    }
   ],
   "source": [
    "#when a tuple is deleted and we try to print it a error is thrown because the the tuple doesnot exist as it is deleted.\n",
    "t=eval(input(\"enter the numbers\"))\n",
    "del t\n",
    "print(t)\n",
    "\n"
   ]
  },
  {
   "cell_type": "code",
   "execution_count": 19,
   "id": "ef6a3a45",
   "metadata": {},
   "outputs": [
    {
     "name": "stdout",
     "output_type": "stream",
     "text": [
      "enter the numbers1,2,3\n",
      "(1, 2)\n",
      "(1, 2, 3)\n"
     ]
    }
   ],
   "source": [
    "#slice a tuple\n",
    "t=eval(input(\"enter the numbers\"))\n",
    "s=()\n",
    "w=()\n",
    "s=t[:-1]\n",
    "w=t[0:3]\n",
    "print(s)\n",
    "print(w)"
   ]
  },
  {
   "cell_type": "code",
   "execution_count": 21,
   "id": "098ef6b8",
   "metadata": {},
   "outputs": [
    {
     "name": "stdout",
     "output_type": "stream",
     "text": [
      "enter the numbers1,2,3,4\n",
      "the reversed tuple is (4, 3, 2, 1)\n"
     ]
    }
   ],
   "source": [
    "#reverse a tuple\n",
    "t=eval(input(\"enter the numbers\"))\n",
    "s=()\n",
    "s=t[::-1]\n",
    "print(\"the reversed tuple is\",s)"
   ]
  },
  {
   "cell_type": "code",
   "execution_count": 3,
   "id": "c0a77e9a",
   "metadata": {},
   "outputs": [
    {
     "name": "stdout",
     "output_type": "stream",
     "text": [
      "enter the numbers7\n",
      "the tuple of triangular numbers (1, 3, 6, 10, 15, 21, 28)\n"
     ]
    }
   ],
   "source": [
    "#create a tuple of first n triangular numbers\n",
    "n=int(input(\"enter the numbers\"))\n",
    "l=[]\n",
    "t=()\n",
    "x=1\n",
    "for i in range(0,n):\n",
    "    x=x+i\n",
    "    l.append(i+x)\n",
    "    \n",
    "t=tuple(l)\n",
    "print(\"the tuple of triangular numbers\",t)\n",
    "\n",
    "    "
   ]
  },
  {
   "cell_type": "code",
   "execution_count": 5,
   "id": "225bc97f",
   "metadata": {},
   "outputs": [
    {
     "name": "stdout",
     "output_type": "stream",
     "text": [
      "enter the numbers1,2,3,4\n",
      "2\n",
      "4\n"
     ]
    }
   ],
   "source": [
    "#filter all even numbers from a tuple\n",
    "t=eval(input(\"enter the numbers\"))\n",
    "for x in t:\n",
    "    if(x%2==0):\n",
    "        print(x)\n"
   ]
  },
  {
   "cell_type": "code",
   "execution_count": 6,
   "id": "5a64e079",
   "metadata": {},
   "outputs": [
    {
     "name": "stdout",
     "output_type": "stream",
     "text": [
      "enter the powers5\n",
      "the resultant tuple is (2, 4, 8, 16)\n"
     ]
    }
   ],
   "source": [
    "#create a tuple of first n powers of 2\n",
    "n=int(input(\"enter the powers\"))\n",
    "t=()\n",
    "l=[]\n",
    "for i in range(1,n):\n",
    "    l.append(2**i)\n",
    "t=tuple(l)\n",
    "print(\"the resultant tuple is\",t)\n",
    "    "
   ]
  },
  {
   "cell_type": "code",
   "execution_count": 25,
   "id": "c1309a9e",
   "metadata": {},
   "outputs": [
    {
     "name": "stdout",
     "output_type": "stream",
     "text": [
      "enter the numbers1,2,3,4\n",
      "tuple is sorted\n"
     ]
    }
   ],
   "source": [
    "#find whether a list is sorted or not\n",
    "t=eval(input(\"enter the numbers\"))\n",
    "t3=sorted(t)\n",
    "t2=list(t)\n",
    "if(t3==t2):\n",
    "    print(\"tuple is sorted\")\n",
    "else:\n",
    "    print(\"tuple not sorted\")"
   ]
  },
  {
   "cell_type": "code",
   "execution_count": 6,
   "id": "76fd45ed",
   "metadata": {},
   "outputs": [
    {
     "name": "stdout",
     "output_type": "stream",
     "text": [
      "enter a stringmy name is swagata\n",
      "['my', 'name', 'is', 'swagata']\n",
      "the longest string is swagata\n"
     ]
    }
   ],
   "source": [
    "#find the longest string in a tuple of strings\n",
    "str=input(\"enter a string\")\n",
    "l=str.split()\n",
    "print(l)\n",
    "m=0\n",
    "for x in l:\n",
    "    le=len(x)\n",
    "    if(le>m):\n",
    "        m=le\n",
    "        s1=x\n",
    "print(\"the longest string is\",s1)\n"
   ]
  },
  {
   "cell_type": "code",
   "execution_count": 9,
   "id": "0ea90663",
   "metadata": {},
   "outputs": [
    {
     "name": "stdout",
     "output_type": "stream",
     "text": [
      "enter a stringmy name is swagata\n",
      "['my', 'name', 'is', 'swagata']\n",
      "the shortest string is my\n"
     ]
    }
   ],
   "source": [
    "#find the shortest string in a tuple of strings\n",
    "str=input(\"enter a string\")\n",
    "l=str.split()\n",
    "print(l)\n",
    "m=len(str)\n",
    "for x in l:\n",
    "    \n",
    "    le=len(x)\n",
    "    if(le<m):\n",
    "        m=le\n",
    "        s1=x\n",
    "print(\"the shortest string is\",s1)\n"
   ]
  },
  {
   "cell_type": "code",
   "execution_count": 11,
   "id": "78b10d08",
   "metadata": {},
   "outputs": [
    {
     "name": "stdout",
     "output_type": "stream",
     "text": [
      "enter a stringapple is\n",
      "['apple', 'is']\n",
      "('apple', 'is')\n",
      "the shortest string is is\n"
     ]
    }
   ],
   "source": [
    "#find the shortest string in a tuple of strings\n",
    "str=input(\"enter a string\")\n",
    "t={}\n",
    "l=str.split()\n",
    "t=tuple(l)\n",
    "print(t)\n",
    "m=len(str)\n",
    "for x in t:\n",
    "    \n",
    "    le=len(x)\n",
    "    if(le<m):\n",
    "        m=le\n",
    "        s1=x\n",
    "print(\"the shortest string is\",s1)\n"
   ]
  },
  {
   "cell_type": "code",
   "execution_count": 12,
   "id": "5b68de09",
   "metadata": {},
   "outputs": [
    {
     "name": "stdout",
     "output_type": "stream",
     "text": [
      "enter a stringmy name is swagata\n",
      "('my', 'name', 'is', 'swagata')\n",
      "the longest string is swagata\n"
     ]
    }
   ],
   "source": [
    "#find the longest string in a tuple of strings\n",
    "str=input(\"enter a string\")\n",
    "t={}\n",
    "l=str.split()\n",
    "t=tuple(l)\n",
    "print(t)\n",
    "m=0\n",
    "for x in t:\n",
    "    le=len(x)\n",
    "    if(le>m):\n",
    "        m=le\n",
    "        s1=x\n",
    "print(\"the longest string is\",s1)\n"
   ]
  },
  {
   "cell_type": "code",
   "execution_count": 19,
   "id": "366c850a",
   "metadata": {},
   "outputs": [
    {
     "name": "stdout",
     "output_type": "stream",
     "text": [
      "enter a string1,8,9,7\n",
      "(1, 8, 9, 7)\n"
     ]
    }
   ],
   "source": [
    "#string to tuple of integer\n",
    "s=input(\"enter a string\")\n",
    "t={}\n",
    "t=eval(s)\n",
    "print(t)"
   ]
  },
  {
   "cell_type": "code",
   "execution_count": 2,
   "id": "5f715b5c",
   "metadata": {},
   "outputs": [
    {
     "name": "stdout",
     "output_type": "stream",
     "text": [
      "(0, 1, 1, 2, 3)\n"
     ]
    }
   ],
   "source": [
    "#create a tuple of first five fibonacci numbers\n",
    "l=[]\n",
    "t={}\n",
    "a=1\n",
    "b=0\n",
    "c=0\n",
    "for i in range(1,6):\n",
    "    l.append(c)\n",
    "    t=tuple(l)\n",
    "    c=a+b\n",
    "    a=b\n",
    "    b=c\n",
    "print(t)  "
   ]
  },
  {
   "cell_type": "code",
   "execution_count": null,
   "id": "f2659c64",
   "metadata": {},
   "outputs": [],
   "source": []
  }
 ],
 "metadata": {
  "kernelspec": {
   "display_name": "Python 3 (ipykernel)",
   "language": "python",
   "name": "python3"
  },
  "language_info": {
   "codemirror_mode": {
    "name": "ipython",
    "version": 3
   },
   "file_extension": ".py",
   "mimetype": "text/x-python",
   "name": "python",
   "nbconvert_exporter": "python",
   "pygments_lexer": "ipython3",
   "version": "3.11.4"
  }
 },
 "nbformat": 4,
 "nbformat_minor": 5
}
