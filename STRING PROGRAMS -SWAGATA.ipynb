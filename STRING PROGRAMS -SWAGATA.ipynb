{
 "cells": [
  {
   "cell_type": "code",
   "execution_count": 8,
   "id": "1e38d257",
   "metadata": {},
   "outputs": [
    {
     "name": "stdout",
     "output_type": "stream",
     "text": [
      "enter a string\n",
      "python\n",
      "reversed string\n",
      "nohtyp\n"
     ]
    }
   ],
   "source": [
    "    # 1. REVERSE A STRING\n",
    "    str=input(\"enter a string\\n\")\n",
    "    print(\"reversed string\")\n",
    "    print(str[ : :-1])\n",
    "    "
   ]
  },
  {
   "cell_type": "code",
   "execution_count": 9,
   "id": "4e8035b8",
   "metadata": {},
   "outputs": [
    {
     "name": "stdout",
     "output_type": "stream",
     "text": [
      "enter a stringmadam\n",
      "Palindrome string\n"
     ]
    }
   ],
   "source": [
    "# 2.PALINDROME STRING\n",
    "str=input(\"enter a string\")\n",
    "s=str[ : :-1]\n",
    "if(s==str):\n",
    "    print(\"Palindrome string\")\n",
    "else:\n",
    "    print(\"Not palindrome string\")"
   ]
  },
  {
   "cell_type": "code",
   "execution_count": 10,
   "id": "e92e6d29",
   "metadata": {},
   "outputs": [
    {
     "name": "stdout",
     "output_type": "stream",
     "text": [
      "enter a string\n",
      "python\n",
      "PYTHON\n"
     ]
    }
   ],
   "source": [
    "# 3.STRING TO UPPERCASE\n",
    "str=input(\"enter a string\\n\")\n",
    "print(str.upper())"
   ]
  },
  {
   "cell_type": "code",
   "execution_count": 11,
   "id": "3242faba",
   "metadata": {},
   "outputs": [
    {
     "name": "stdout",
     "output_type": "stream",
     "text": [
      "enter a string\n",
      "PYTHON\n",
      "python\n"
     ]
    }
   ],
   "source": [
    "#STRING TO LOWERCASE\n",
    "str=input(\"enter a string\\n\")\n",
    "print(str.lower())"
   ]
  },
  {
   "cell_type": "code",
   "execution_count": 27,
   "id": "3f3f55e6",
   "metadata": {},
   "outputs": [
    {
     "name": "stdout",
     "output_type": "stream",
     "text": [
      "enetr a string\n",
      "swagata\n",
      "number of consonants\n",
      " 1\n",
      "number of consonants\n",
      " 2\n",
      "number of vowels\n",
      " 1\n",
      "number of consonants\n",
      " 3\n",
      "number of vowels\n",
      " 2\n",
      "number of consonants\n",
      " 4\n",
      "number of vowels\n",
      " 3\n"
     ]
    }
   ],
   "source": [
    "#COUNT NUMBER OF VOWELS IN A STRING\n",
    "str=input(\"enetr a string\\n\")\n",
    "c=0\n",
    "c1=0\n",
    "for i in str:\n",
    "    if((i=='A'or i=='E'or i=='I'or i=='O'or i=='U')or(i=='a'or i=='e'or i=='i'or i=='o'or i=='u')):\n",
    "        c=c+1\n",
    "        print(\"number of vowels\\n\",c)\n",
    "    else:\n",
    "        c1=c1+1\n",
    "        print(\"number of consonants\\n\",c1)"
   ]
  },
  {
   "cell_type": "code",
   "execution_count": 28,
   "id": "192ba96f",
   "metadata": {},
   "outputs": [
    {
     "name": "stdout",
     "output_type": "stream",
     "text": [
      "enetr a string\n",
      "swagata\n",
      "number of consonants\n",
      " 4\n"
     ]
    }
   ],
   "source": [
    "#COUNT NUMBER OF CONSONANTS IN A STRING\n",
    "list=['a','e','i','o','u']\n",
    "str=input(\"enetr a string\\n\")\n",
    "c=0\n",
    "l=len(str)\n",
    "for i in range(0,l):\n",
    "    if str[i] not in (list):\n",
    "        c=c+1\n",
    "print(\"number of consonants\\n\",c)"
   ]
  },
  {
   "cell_type": "code",
   "execution_count": 3,
   "id": "e114f826",
   "metadata": {},
   "outputs": [
    {
     "name": "stdout",
     "output_type": "stream",
     "text": [
      "enter a string\n",
      "  python  \n",
      "changed string\n",
      "\n",
      "python\n"
     ]
    }
   ],
   "source": [
    "#REMOVING ALL WHITE SPACES FROM A STRING\n",
    "str=input(\"enter a string\\n\")\n",
    "s=str.strip()\n",
    "print(\"changed string\\n\")\n",
    "print(s)"
   ]
  },
  {
   "cell_type": "code",
   "execution_count": 5,
   "id": "ccc1f4a7",
   "metadata": {},
   "outputs": [
    {
     "name": "stdout",
     "output_type": "stream",
     "text": [
      "enter a stringpython\n",
      "length of string\n",
      "\n",
      "6\n"
     ]
    }
   ],
   "source": [
    "#COUNT THE LENGTH OF THE STRING WITHOUT USING LEN() FUNCTION\n",
    "str=input(\"enter a string\")\n",
    "c=0\n",
    "for ch in str:\n",
    "    c=c+1\n",
    "print(\"length of string\\n\")\n",
    "print(c)"
   ]
  },
  {
   "cell_type": "code",
   "execution_count": 11,
   "id": "009d201e",
   "metadata": {},
   "outputs": [
    {
     "name": "stdout",
     "output_type": "stream",
     "text": [
      "enter a string\n",
      "my name is swagata\n",
      "enter a specific word\n",
      "swagata\n",
      "word present\n"
     ]
    }
   ],
   "source": [
    "#CHECK IF A STRING CONTAINS A SPECIFIC WORD OR NOT\n",
    "str=input(\"enter a string\\n\")\n",
    "s= input(\"enter a specific word\\n\")\n",
    "if s in str:\n",
    "    print(\"word present\")\n",
    "else:\n",
    "    print(\"not present\")"
   ]
  },
  {
   "cell_type": "code",
   "execution_count": 12,
   "id": "18acd133",
   "metadata": {},
   "outputs": [
    {
     "name": "stdout",
     "output_type": "stream",
     "text": [
      "enter a stringmy name is rohan\n",
      "the changed string is\n",
      "\n",
      "my name is swagata\n"
     ]
    }
   ],
   "source": [
    "#REPLACE A WORD IN A STRING WITH ANOTHER WORD\n",
    "str=input(\"enter a string\")\n",
    "s=str.replace(\"rohan\",\"swagata\")\n",
    "print(\"the changed string is\\n\")\n",
    "print(s)"
   ]
  },
  {
   "cell_type": "code",
   "execution_count": 13,
   "id": "9d43a6a0",
   "metadata": {},
   "outputs": [
    {
     "name": "stdout",
     "output_type": "stream",
     "text": [
      "enter a stringmangoes are my favourite\n",
      "words\n",
      "\n",
      "['mangoes', 'are', 'my', 'favourite']\n"
     ]
    }
   ],
   "source": [
    "#SPLIT A STRING INTO A LIST OF WORDS\n",
    "str=input(\"enter a string\")\n",
    "s=str.split(\" \")\n",
    "print(\"words\\n\")\n",
    "print(s)"
   ]
  },
  {
   "cell_type": "code",
   "execution_count": 17,
   "id": "21bda105",
   "metadata": {},
   "outputs": [
    {
     "name": "stdout",
     "output_type": "stream",
     "text": [
      "enter a stringmangoes are the best\n",
      "enter a word or phrasemangoes\n",
      "True\n"
     ]
    }
   ],
   "source": [
    "#CHECK WHETHER STRING STARTS WITH A SPECIFIC WORD OR PHRASE\n",
    "str=input(\"enter a string\")\n",
    "s=input(\"enter a word or phrase\")\n",
    "print(str.startswith(s))\n",
    "\n",
    "    "
   ]
  },
  {
   "cell_type": "code",
   "execution_count": 4,
   "id": "938919c2",
   "metadata": {},
   "outputs": [
    {
     "name": "stdout",
     "output_type": "stream",
     "text": [
      "enter a stringmy name is swagata\n",
      "enter a wordswagata\n",
      "True\n"
     ]
    }
   ],
   "source": [
    "#CHECK IF STRING STARTS WITH A SPECIFIC WORD OR PHRASE\n",
    "str=input(\"enter a string\")\n",
    "s=input(\"enter a word\")\n",
    "print(str.endswith(s))"
   ]
  },
  {
   "cell_type": "code",
   "execution_count": 5,
   "id": "571d1617",
   "metadata": {},
   "outputs": [
    {
     "name": "stdout",
     "output_type": "stream",
     "text": [
      "enter a stringPYThon\n",
      "number of uppercase characters are\n",
      "\n",
      "3\n"
     ]
    }
   ],
   "source": [
    "#COUNT THE NUMBER OF UPPERCASE CHARACTERS IN A STRING\n",
    "str=input(\"enter a string\")\n",
    "c=0\n",
    "for ch in str:\n",
    "    if(ch.isupper()):\n",
    "        c=c+1\n",
    "print(\"number of uppercase characters are\\n\")\n",
    "print(c)"
   ]
  },
  {
   "cell_type": "code",
   "execution_count": 2,
   "id": "5f611632",
   "metadata": {},
   "outputs": [
    {
     "name": "stdout",
     "output_type": "stream",
     "text": [
      "enter a stringmy name is swagata\n",
      "maximum length\n",
      " 7\n",
      "longest word\n",
      " swagata\n"
     ]
    }
   ],
   "source": [
    "#LONGEST WORD\n",
    "str=input(\"enter a string\")\n",
    "long=\"\"\n",
    "max=0\n",
    "s=str.split(\" \")\n",
    "for x in s:\n",
    "    l1=len(x)\n",
    "    if(l1>max):\n",
    "        max=l1\n",
    "        long=x\n",
    "print(\"maximum length\\n\",max)\n",
    "print(\"longest word\\n\",long)"
   ]
  },
  {
   "cell_type": "code",
   "execution_count": 9,
   "id": "a26f4eb9",
   "metadata": {},
   "outputs": [
    {
     "name": "stdout",
     "output_type": "stream",
     "text": [
      "enter a stringmangoes are ripe\n",
      "minimum length\n",
      " 3\n",
      "shortest word\n",
      " are\n"
     ]
    }
   ],
   "source": [
    "#SHORTEST WORD\n",
    "str=input(\"enter a string\")\n",
    "min=len(str)\n",
    "short=\"\"\n",
    "s=str.split(\" \")\n",
    "for x in s:\n",
    "    l1=len(x)\n",
    "    if(l1<min):\n",
    "        min=l1\n",
    "        short=x\n",
    "        \n",
    "print(\"minimum length\\n\",min)\n",
    "print(\"shortest word\\n\",short)\n"
   ]
  },
  {
   "cell_type": "code",
   "execution_count": 1,
   "id": "ddbcb58d",
   "metadata": {},
   "outputs": [
    {
     "name": "stdout",
     "output_type": "stream",
     "text": [
      "enter a stringshift\n",
      "shift\n",
      "hifts\n",
      "iftsh\n",
      "ftshi\n",
      "tshif\n",
      "shift\n"
     ]
    }
   ],
   "source": [
    "#PATTERN PRINTING\n",
    "str=input(\"enter a string\")\n",
    "l=len(str)\n",
    "for i in range(0,l+1):\n",
    "    s=str[i: ]+str[ :i]\n",
    "    print(s)\n"
   ]
  },
  {
   "cell_type": "code",
   "execution_count": 3,
   "id": "8ed6a6d1",
   "metadata": {},
   "outputs": [
    {
     "name": "stdout",
     "output_type": "stream",
     "text": [
      "enter a stringhello world\n",
      "the changed string is\n",
      "\n",
      "Hello World\n"
     ]
    }
   ],
   "source": [
    "#CONVERT A STRING TO TILTE CASE(using function)\n",
    "str=input(\"enter a string\")\n",
    "st=\"\"\n",
    "st=str.title()\n",
    "print(\"the changed string is\\n\")\n",
    "print(st)"
   ]
  },
  {
   "cell_type": "code",
   "execution_count": 15,
   "id": "a306b64d",
   "metadata": {},
   "outputs": [
    {
     "name": "stdout",
     "output_type": "stream",
     "text": [
      "enter a stringswagata\n",
      "frequency of a is 3\n"
     ]
    }
   ],
   "source": [
    "#FREQUENCY OF EACH CHARACTER IN A STRING\n",
    "str=input(\"enter a string\")\n",
    "l=len(str)\n",
    "c=0\n",
    "for i in range(0,l):\n",
    "    ch=str[i]\n",
    "for j in range(0,l):\n",
    "    ch1=str[j]\n",
    "    if(ch==ch1):\n",
    "        c=c+1\n",
    "print(\"frequency of\",ch+\" is\",c)"
   ]
  },
  {
   "cell_type": "code",
   "execution_count": 16,
   "id": "93427deb",
   "metadata": {},
   "outputs": [
    {
     "name": "stdout",
     "output_type": "stream",
     "text": [
      "enter a stringSWAgata\n",
      "the changed string is\n",
      " swaGATA\n"
     ]
    }
   ],
   "source": [
    "#SWAP THE CASE OF EACH CHARACTER IN A STRING\n",
    "str=input(\"enter a string\")\n",
    "l=len(str)\n",
    "st=\"\"\n",
    "for i in range(0,l):\n",
    "    ch=str[i]\n",
    "    if(ch>='a' and ch<='z'):\n",
    "        st=st+(ch.upper())\n",
    "    elif(ch>='A'and ch<='Z'):\n",
    "        st=st+(ch.lower())\n",
    "    else:\n",
    "        st=st+ch\n",
    "print(\"the changed string is\\n\",st)"
   ]
  },
  {
   "cell_type": "code",
   "execution_count": 23,
   "id": "1071b541",
   "metadata": {},
   "outputs": [
    {
     "name": "stdout",
     "output_type": "stream",
     "text": [
      "enter a string3\n",
      "enter a stringmy\n",
      "enter a stringname\n",
      "enter a stringrohan\n",
      "['my', 'name', 'rohan']\n",
      "my name rohan\n"
     ]
    }
   ],
   "source": [
    "#JOIN A LIST OF WORDS TO STRING\n",
    "l=[]\n",
    "n=int(input(\"enter a string\"))\n",
    "for i in range(0,n):\n",
    "    str=input(\"enter a string\")\n",
    "    l.append(str)\n",
    "print(l)\n",
    "print(\" \".join(l))\n"
   ]
  },
  {
   "cell_type": "code",
   "execution_count": 2,
   "id": "95b62238",
   "metadata": {},
   "outputs": [
    {
     "name": "stdout",
     "output_type": "stream",
     "text": [
      "enter a string16543689\n",
      "string contains only digits\n"
     ]
    }
   ],
   "source": [
    "#CHECK IF A STRING CONTAINS ONLY DIGITS\n",
    "str=input(\"enter a string\")\n",
    "if(str.isdigit()):\n",
    "    print(\"string contains only digits\")\n",
    "else:\n",
    "    print(\"string doesnot contain digits\")\n",
    "    "
   ]
  },
  {
   "cell_type": "code",
   "execution_count": 3,
   "id": "822ceab2",
   "metadata": {},
   "outputs": [
    {
     "name": "stdout",
     "output_type": "stream",
     "text": [
      "enter a stringswagata\n",
      "string contains only alphabets\n"
     ]
    }
   ],
   "source": [
    "#CHECK IF STRING CONTAINS ONLY ALPHABETS\n",
    "str=input('enter a string')\n",
    "if(str.isalpha()):\n",
    "    print(\"string contains only alphabets\")\n",
    "else:\n",
    "    print(\"string doesnot contain alphabets \")"
   ]
  },
  {
   "cell_type": "code",
   "execution_count": 8,
   "id": "3817ccd2",
   "metadata": {},
   "outputs": [
    {
     "name": "stdout",
     "output_type": "stream",
     "text": [
      "enter a stringcomputer\n",
      "unique string\n"
     ]
    }
   ],
   "source": [
    "#FIND ALL UNIQUE WORDS IN A STRING\n",
    "str=input(\"enter a string\")\n",
    "l=len(str)\n",
    "c=0\n",
    "flag=0\n",
    "for i in range(0,l):\n",
    "    ch=str[i]\n",
    "for j in range(0,l):\n",
    "    ch1=str[j]\n",
    "    if(ch==ch1):\n",
    "        c=c+1\n",
    "    if(c>1):\n",
    "        \n",
    "        flag=1\n",
    "        break\n",
    "if(flag==1):\n",
    "    \n",
    "    print(\"not unique\")\n",
    "    \n",
    "else:\n",
    "    print( \"unique string\")\n",
    "    "
   ]
  },
  {
   "cell_type": "code",
   "execution_count": 12,
   "id": "545e0bf5",
   "metadata": {},
   "outputs": [
    {
     "name": "stdout",
     "output_type": "stream",
     "text": [
      "enter a stringswag1235\n",
      "the alphabets are\n",
      "s\n",
      "w\n",
      "a\n",
      "g\n"
     ]
    }
   ],
   "source": [
    "#EXTRACT ALL ALPHABETS FROM A STRING\n",
    "str=input(\"enter a string\")\n",
    "l=len(str)\n",
    "print(\"the alphabets are\")\n",
    "for i in range(0,l):\n",
    "    ch=str[i]\n",
    "    if((ch>=\"A\"and ch<=\"Z\")or(ch>=\"a\" and ch<=\"z\")):\n",
    "        print(ch)\n"
   ]
  },
  {
   "cell_type": "code",
   "execution_count": 13,
   "id": "e470343b",
   "metadata": {},
   "outputs": [
    {
     "name": "stdout",
     "output_type": "stream",
     "text": [
      "enter a stringswag1235\n",
      "the digits are\n",
      "1\n",
      "2\n",
      "3\n",
      "5\n"
     ]
    }
   ],
   "source": [
    "#EXTRACT ALL DIGITS FROM A STRING\n",
    "str=input(\"enter a string\")\n",
    "l=len(str)\n",
    "print(\"the digits are\")\n",
    "for i in range(0,l):\n",
    "    ch=str[i]\n",
    "    if(ch>=\"0\"and ch<=\"9\"):\n",
    "        print(ch)\n"
   ]
  },
  {
   "cell_type": "code",
   "execution_count": 16,
   "id": "4d6e1e4d",
   "metadata": {},
   "outputs": [
    {
     "name": "stdout",
     "output_type": "stream",
     "text": [
      "enter a stringswagata\n",
      "string after being converted to a list of characters\n",
      "['s', 'w', 'a', 'g', 'a', 't', 'a']\n"
     ]
    }
   ],
   "source": [
    "#CONVERT A STRING TO A LIST OF CHARACTERS\n",
    "str=input(\"enter a string\")\n",
    "l=len(str)\n",
    "list=[]\n",
    "for i in range(0,l):\n",
    "    ch=str[i]\n",
    "    list.append(ch)\n",
    "print(\"string to list of characters\")\n",
    "print(list)"
   ]
  },
  {
   "cell_type": "code",
   "execution_count": 20,
   "id": "2ffb248d",
   "metadata": {},
   "outputs": [
    {
     "name": "stdout",
     "output_type": "stream",
     "text": [
      "enter a stringrohan has a blue bottle and a blue bag\n",
      "enter the word whose first occurence is to foundblue\n",
      "the first occurence of the word in the string 12\n"
     ]
    }
   ],
   "source": [
    "#FIND THE FIRST OCCURENCE OF A WORD IN A STRING\n",
    "str=input(\"enter a string\")\n",
    "st=input(\"enter the word whose first occurence is to found\")\n",
    "x=str.find(st)\n",
    "print(\"the first occurence of the word in the string\",x)"
   ]
  },
  {
   "cell_type": "code",
   "execution_count": 21,
   "id": "8ea948ec",
   "metadata": {},
   "outputs": [
    {
     "name": "stdout",
     "output_type": "stream",
     "text": [
      "enter a stringrohan has a blue bottle and a blue bag\n",
      "enter the word whose last occurence is to foundblue\n",
      "the last occurence of the word in the string 30\n"
     ]
    }
   ],
   "source": [
    "#FIND THE LAST OCCURENCE OF A WORD IN A STRING\n",
    "str=input(\"enter a string\")\n",
    "st=input(\"enter the word whose last occurence is to found\")\n",
    "x=str.rfind(st)\n",
    "print(\"the last occurence of the word in the string\",x)"
   ]
  },
  {
   "cell_type": "code",
   "execution_count": 2,
   "id": "6e0850ed",
   "metadata": {},
   "outputs": [
    {
     "name": "stdout",
     "output_type": "stream",
     "text": [
      "enter the first stringlazy\n",
      "enter the second stringzaly\n",
      "the strings are anagrams\n"
     ]
    }
   ],
   "source": [
    "#ANAGRAM\n",
    "s1=input(\"enter the first string\")\n",
    "s2=input(\"enter the second string\")\n",
    "if(sorted(s1)==sorted(s2)):\n",
    "    print(\"the strings are anagrams\")\n",
    "else:\n",
    "    print(\"the strings are not anagrams\")"
   ]
  },
  {
   "cell_type": "code",
   "execution_count": 4,
   "id": "9fb94ea8",
   "metadata": {},
   "outputs": [
    {
     "name": "stdout",
     "output_type": "stream",
     "text": [
      "enter the range3\n",
      "enter a stringweather\n",
      "enter a stringis\n",
      "enter a stringrainy\n",
      "The joined string is weather is rainy\n"
     ]
    }
   ],
   "source": [
    "#join a list of words into strings\n",
    "l=[]\n",
    "n=int(input(\"enter the range\"))\n",
    "for i in range (0,n):\n",
    "    str=input(\"enter a string\")\n",
    "    l.append(str)\n",
    "s=' '.join(l)\n",
    "print(\"The joined string is\",s)"
   ]
  },
  {
   "cell_type": "code",
   "execution_count": 11,
   "id": "11b7b7d3",
   "metadata": {},
   "outputs": [
    {
     "name": "stdout",
     "output_type": "stream",
     "text": [
      "enter a stringhello.com\n",
      "invalid email address\n"
     ]
    }
   ],
   "source": [
    "#valid email address\n",
    "str=input(\"enter a string\")\n",
    "count=0\n",
    "for i in str:\n",
    "    if(i=='@'and str.endswith('.com')and ' ' not in str and str[0]!='@'and'@.com'not in str):\n",
    "        count=1\n",
    "if(count==1 and str.count('@')==1 and str.count('.com')==1 ):\n",
    "            print(\"valid email address\")\n",
    "else:\n",
    "    \n",
    "    print(\"invalid email address\")"
   ]
  },
  {
   "cell_type": "code",
   "execution_count": 4,
   "id": "3e1693b1",
   "metadata": {},
   "outputs": [
    {
     "name": "stdout",
     "output_type": "stream",
     "text": [
      "enter a stringhttps://.com\n",
      "invalid url\n"
     ]
    }
   ],
   "source": [
    "#CHECK IF STRING IS VALID URL\n",
    "str=input(\"enter a string\")\n",
    "count=0\n",
    "if(str.startswith('https://') and ' ' not in str and str.endswith('.com') and ('https://.com')not in str):\n",
    "        count=1\n",
    "        \n",
    "        if(count==1 and (str.count('https://')==1 or str.count('http://')==1) and str.count('.com')==1 ):\n",
    "            \n",
    "            print(\"valid url\")\n",
    "        else:\n",
    "            print(\"invalid url\")\n",
    "else:\n",
    "    \n",
    "    print(\"invalid url\")\n",
    "    "
   ]
  },
  {
   "cell_type": "code",
   "execution_count": 4,
   "id": "6f46f936",
   "metadata": {},
   "outputs": [
    {
     "name": "stdout",
     "output_type": "stream",
     "text": [
      "enter a stringswagata.\n",
      "The changed string is swagata\n"
     ]
    }
   ],
   "source": [
    "#remove all punctuations from a string\n",
    "str=input(\"enter a string\")\n",
    "st=''\n",
    "for i in str:\n",
    "    if(i=='.'or i==','or i=='?'or i=='!'):\n",
    "        continue\n",
    "    else:\n",
    "        st=st+i\n",
    "print(\"The changed string is\",st)"
   ]
  },
  {
   "cell_type": "code",
   "execution_count": 16,
   "id": "e2d9aa68",
   "metadata": {},
   "outputs": [
    {
     "name": "stdout",
     "output_type": "stream",
     "text": [
      "enetr a string\n",
      "swa@#\n",
      "Number of special chracters 2\n"
     ]
    }
   ],
   "source": [
    "#COUNT NUMBER OF SPECIAL CHARACTERS IN A STRING\n",
    "str=input(\"enetr a string\\n\")\n",
    "c=0\n",
    "c1=0\n",
    "s1=0\n",
    "l=len(str)\n",
    "for i in range(0,l):\n",
    "    if(str[i].isalpha()==True):\n",
    "        continue\n",
    "    elif(str[i].isdigit()==True):\n",
    "        continue\n",
    "    else:\n",
    "        s1=s1+1\n",
    "print(\"Number of special chracters\",s1)"
   ]
  },
  {
   "cell_type": "code",
   "execution_count": 18,
   "id": "68e41a49",
   "metadata": {},
   "outputs": [
    {
     "name": "stdout",
     "output_type": "stream",
     "text": [
      "enter a stringmy name is swagata\n",
      "The changed string is my_name_is_swagata\n"
     ]
    }
   ],
   "source": [
    "#replace all whitespaces with underscores in a string\n",
    "str=input(\"enter a string\")\n",
    "st=''\n",
    "st=str.replace(' ','_')\n",
    "print(\"The changed string is\",st)"
   ]
  },
  {
   "cell_type": "code",
   "execution_count": 19,
   "id": "96820472",
   "metadata": {},
   "outputs": [
    {
     "name": "stdout",
     "output_type": "stream",
     "text": [
      "enter a stringswa gata\n",
      "The changed string is swagata\n"
     ]
    }
   ],
   "source": [
    "#removing all whitespaces from a string\n",
    "str=input(\"enter a string\")\n",
    "st=''\n",
    "for i in str:\n",
    "    if(i==' '):\n",
    "        continue\n",
    "    else:\n",
    "        st=st+i\n",
    "print(\"The changed string is\",st)"
   ]
  },
  {
   "cell_type": "code",
   "execution_count": 1,
   "id": "c0d640a3",
   "metadata": {},
   "outputs": [
    {
     "name": "stdout",
     "output_type": "stream",
     "text": [
      "enter a valid email addressabc@gmail.com\n",
      "The domain name is gmail.com\n"
     ]
    }
   ],
   "source": [
    "#extract domain name from an email address\n",
    "str=input(\"enter a valid email address\")\n",
    "n=str.index('@')\n",
    "st=str[n+1: ]\n",
    "print(\"The domain name is\",st)"
   ]
  },
  {
   "cell_type": "code",
   "execution_count": 3,
   "id": "1f3e99e4",
   "metadata": {},
   "outputs": [
    {
     "name": "stdout",
     "output_type": "stream",
     "text": [
      "enter a valid email addressabc123@gmail.com\n",
      "The domain name is abc123\n"
     ]
    }
   ],
   "source": [
    "#extract user name from an email address\n",
    "str=input(\"enter a valid email address\")\n",
    "n=str.index('@')\n",
    "st=str[ :n]\n",
    "print(\"The domain name is\",st)"
   ]
  },
  {
   "cell_type": "code",
   "execution_count": 5,
   "id": "5b1d7426",
   "metadata": {},
   "outputs": [
    {
     "name": "stdout",
     "output_type": "stream",
     "text": [
      "enter a valid urlhttps://abc.com\n",
      "The protocol is https\n"
     ]
    }
   ],
   "source": [
    "#extract protocol from a URL string\n",
    "str=input(\"enter a valid url\")\n",
    "n=str.index(':')\n",
    "st=str[ :n]\n",
    "print(\"The protocol is\",st)"
   ]
  },
  {
   "cell_type": "code",
   "execution_count": 10,
   "id": "8ba917a6",
   "metadata": {},
   "outputs": [
    {
     "name": "stdout",
     "output_type": "stream",
     "text": [
      "enter a stringmango is best\n",
      "The changed string is best is mango\n"
     ]
    }
   ],
   "source": [
    "#reverse the order of words in a string\n",
    "str=input(\"enter a string\")\n",
    "l=[]\n",
    "st=str.split(\" \")\n",
    "l1=len(st)-1\n",
    "while l1>=0:\n",
    "    l.append(st[l1])\n",
    "    l1=l1-1\n",
    "s=' '.join(l)\n",
    "print(\"The changed string is\",s)\n",
    "    "
   ]
  },
  {
   "cell_type": "code",
   "execution_count": null,
   "id": "96e39770",
   "metadata": {},
   "outputs": [],
   "source": []
  }
 ],
 "metadata": {
  "kernelspec": {
   "display_name": "Python 3 (ipykernel)",
   "language": "python",
   "name": "python3"
  },
  "language_info": {
   "codemirror_mode": {
    "name": "ipython",
    "version": 3
   },
   "file_extension": ".py",
   "mimetype": "text/x-python",
   "name": "python",
   "nbconvert_exporter": "python",
   "pygments_lexer": "ipython3",
   "version": "3.11.4"
  }
 },
 "nbformat": 4,
 "nbformat_minor": 5
}
